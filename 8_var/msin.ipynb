{
 "cells": [
  {
   "cell_type": "markdown",
   "metadata": {},
   "source": [
    "# 8 вариант\n",
    "\n",
    "https://inf-ege.sdamgia.ru/test?id=17467091"
   ]
  },
  {
   "cell_type": "code",
   "execution_count": 11,
   "metadata": {},
   "outputs": [
    {
     "data": {
      "text/html": [
       "<img src=\"2.png\"/>"
      ],
      "text/plain": [
       "<IPython.core.display.Image object>"
      ]
     },
     "execution_count": 11,
     "metadata": {},
     "output_type": "execute_result"
    }
   ],
   "source": [
    "# import image module \n",
    "from IPython.display import Image \n",
    "  \n",
    "# get the image \n",
    "Image(url=\"2.png\") "
   ]
  },
  {
   "cell_type": "code",
   "execution_count": 12,
   "metadata": {},
   "outputs": [
    {
     "name": "stdout",
     "output_type": "stream",
     "text": [
      "x y z w F\n",
      "0 1 0 0 0\n",
      "0 1 1 0 0\n",
      "1 1 1 0 0\n"
     ]
    }
   ],
   "source": [
    "def f(x, y, z, w):\n",
    "    return ((x and y) <= ((not z) or w)) and (((not w) <= x) or (not y))\n",
    "\n",
    "\n",
    "print('x y z w F')\n",
    "for x in range(2):\n",
    "    for y in range(2):\n",
    "        for z in range(2):\n",
    "            for w in range(2):\n",
    "                if f(x,y,z,w) == 0:\n",
    "                    print(f'{x} {y} {z} {w} {int(f(x,y,z,w))}')"
   ]
  },
  {
   "cell_type": "code",
   "execution_count": 13,
   "metadata": {},
   "outputs": [
    {
     "name": "stdout",
     "output_type": "stream",
     "text": [
      "zwyx\n"
     ]
    }
   ],
   "source": [
    "from itertools import*\n",
    "def f (x ,y ,z ,w):\n",
    "    return ((x and y) <= ((not z) or w)) and (((not w) <= x) or (not y))\n",
    "\n",
    "for a1, a2, a3, a4, a5, a6 in product([0, 1], repeat = 6):\n",
    "    tab= {(1, a1, 1, 1),(0, a2, a3, 0),(1, a4, a5, a6)}\n",
    "    for p in permutations('xyzw'):\n",
    "        if [f(**dict(zip(p, row))) for row in tab] == [0,0,0]: print(*p, sep='')\n"
   ]
  },
  {
   "cell_type": "code",
   "execution_count": 14,
   "metadata": {},
   "outputs": [
    {
     "data": {
      "text/html": [
       "<img src=\"5.png\"/>"
      ],
      "text/plain": [
       "<IPython.core.display.Image object>"
      ]
     },
     "execution_count": 14,
     "metadata": {},
     "output_type": "execute_result"
    }
   ],
   "source": [
    "# import image module \n",
    "from IPython.display import Image \n",
    "  \n",
    "# get the image \n",
    "Image(url=\"5.png\") "
   ]
  },
  {
   "cell_type": "code",
   "execution_count": 17,
   "metadata": {},
   "outputs": [
    {
     "name": "stdout",
     "output_type": "stream",
     "text": [
      "9810\n"
     ]
    }
   ],
   "source": [
    "def f(n):\n",
    "    # n = abcd\n",
    "    a = int(str(n)[0])\n",
    "    b = int(str(n)[1])\n",
    "    c = int(str(n)[2])\n",
    "    d = int(str(n)[3])\n",
    "\n",
    "    sm1 = a + b\n",
    "    sm2 = c + d\n",
    "\n",
    "    return int(str(min(sm1, sm2)) + str(max(sm1, sm2)))\n",
    "\n",
    "\n",
    "\n",
    "for n in range(9999, 1000, -1):\n",
    "    if f(n) == 117: \n",
    "        print(n)\n",
    "        break\n"
   ]
  },
  {
   "cell_type": "markdown",
   "metadata": {},
   "source": [
    "## задача 6"
   ]
  },
  {
   "cell_type": "code",
   "execution_count": 23,
   "metadata": {},
   "outputs": [
    {
     "ename": "ModuleNotFoundError",
     "evalue": "No module named 'turtle'",
     "output_type": "error",
     "traceback": [
      "\u001b[0;31m---------------------------------------------------------------------------\u001b[0m",
      "\u001b[0;31mModuleNotFoundError\u001b[0m                       Traceback (most recent call last)",
      "Cell \u001b[0;32mIn[23], line 1\u001b[0m\n\u001b[0;32m----> 1\u001b[0m \u001b[38;5;28;01mfrom\u001b[39;00m \u001b[38;5;21;01mturtle\u001b[39;00m \u001b[38;5;28;01mimport\u001b[39;00m \u001b[38;5;241m*\u001b[39m\n\u001b[1;32m      2\u001b[0m k \u001b[38;5;241m=\u001b[39m \u001b[38;5;241m15\u001b[39m\n\u001b[1;32m      3\u001b[0m tracer(\u001b[38;5;241m0\u001b[39m)\n",
      "\u001b[0;31mModuleNotFoundError\u001b[0m: No module named 'turtle'"
     ]
    }
   ],
   "source": [
    "from turtle import *\n",
    "k = 15\n",
    "tracer(0)\n",
    "pendown()\n",
    "for i in range(2):\n",
    "    forward(3*k)\n",
    "    left(90)\n",
    "    back(10*k)\n",
    "    left(90)\n",
    "penup()\n",
    "back(10*k)\n",
    "right(90)\n",
    "forward(8*k)\n",
    "left(90)\n",
    "pendown()\n",
    "for i in range(2):\n",
    "    forward(16*k)\n",
    "    right(90)\n",
    "    forward(8*k)\n",
    "    right(90)\n",
    "penup()\n",
    "for x in range(-10,10):\n",
    "    for y in range(-20,10):\n",
    "        setpos(x*k,y*k)\n",
    "        dot(5,(1,0,0))\n",
    "done()"
   ]
  },
  {
   "cell_type": "code",
   "execution_count": 1,
   "metadata": {},
   "outputs": [
    {
     "data": {
      "text/html": [
       "<img src=\"8.png\"/>"
      ],
      "text/plain": [
       "<IPython.core.display.Image object>"
      ]
     },
     "execution_count": 1,
     "metadata": {},
     "output_type": "execute_result"
    }
   ],
   "source": [
    "# import image module \n",
    "from IPython.display import Image \n",
    "  \n",
    "# get the image \n",
    "Image(url=\"8.png\") "
   ]
  },
  {
   "cell_type": "markdown",
   "metadata": {},
   "source": [
    "A _ _ _ _ \\\n",
    "_ A _ _ _ \\\n",
    "_ _ A _ _ \\\n",
    "_ _ _ A _ \\\n",
    "_ _ _ _ A \\\n",
    "\n",
    "на каждую из _ позиций можно поставить любую букву из трех -- (Б В Г) -- 3 варианта\n",
    "\n",
    "то есть для первой схемы слова есть 3 * 3 * 3 * 3 = 3^4\n",
    "\n",
    "таких схем 5 штук, они не пересекаются 5 * 3^4 = 405"
   ]
  },
  {
   "cell_type": "code",
   "execution_count": 9,
   "metadata": {},
   "outputs": [
    {
     "name": "stdout",
     "output_type": "stream",
     "text": [
      "405\n"
     ]
    }
   ],
   "source": [
    "from itertools import product\n",
    "\n",
    "cnt = 0\n",
    "\n",
    "for word in product('АБВГ', repeat=5):\n",
    "    if word.count('А') == 1: cnt += 1\n",
    "\n",
    "print(cnt)"
   ]
  },
  {
   "cell_type": "code",
   "execution_count": 10,
   "metadata": {},
   "outputs": [
    {
     "data": {
      "text/html": [
       "<img src=\"9.png\"/>"
      ],
      "text/plain": [
       "<IPython.core.display.Image object>"
      ]
     },
     "execution_count": 10,
     "metadata": {},
     "output_type": "execute_result"
    }
   ],
   "source": [
    "Image(url=\"9.png\") "
   ]
  },
  {
   "cell_type": "markdown",
   "metadata": {},
   "source": [
    "(a b) c d e f\n",
    "\n",
    "(a + b) / 2 >= (c + d + e + f) / 4\n",
    "2 (a + b) >= c + d + e + f\n",
    "2 (a + b) + a + b >= a + b + c + d + e + f = sum(arr)\n"
   ]
  },
  {
   "cell_type": "code",
   "execution_count": 15,
   "metadata": {},
   "outputs": [
    {
     "name": "stdout",
     "output_type": "stream",
     "text": [
      "6840\n"
     ]
    }
   ],
   "source": [
    "f = open('9.txt', 'r')\n",
    "\n",
    "tmp = []\n",
    "cnt = 0\n",
    "\n",
    "for st in f.readlines():\n",
    "    tmp = [int(x) for x in st.split()]\n",
    "\n",
    "    flag = True\n",
    "\n",
    "    for elem in tmp:\n",
    "        flag &= (tmp.count(elem) == 1)\n",
    "    \n",
    "    flag &= 3 * (max(tmp) + min(tmp)) > sum(tmp)\n",
    "\n",
    "    cnt += int(flag)\n",
    "\n",
    "print(cnt)"
   ]
  },
  {
   "cell_type": "code",
   "execution_count": 20,
   "metadata": {},
   "outputs": [
    {
     "data": {
      "text/html": [
       "<img src=\"11.png\"/>"
      ],
      "text/plain": [
       "<IPython.core.display.Image object>"
      ]
     },
     "execution_count": 20,
     "metadata": {},
     "output_type": "execute_result"
    }
   ],
   "source": [
    "Image(url=\"11.png\") "
   ]
  },
  {
   "cell_type": "markdown",
   "metadata": {},
   "source": [
    "<id, 19 bytes>\n",
    "\n",
    "len(id) = 14\n",
    "\n",
    "32 <= N = 52 <= 64 = 2^6 --> каждый символ = 6 бит\n",
    "\n",
    "size(id) = 14 * 6 = 84 бита = 10.5 байт --> 11 байт на id\n",
    "\n",
    "size(<id, desct>) = 11 + 19 = 30 bytes\n",
    "\n",
    "Ответ 25 * 30 = 750 bytes "
   ]
  },
  {
   "cell_type": "code",
   "execution_count": 24,
   "metadata": {},
   "outputs": [
    {
     "data": {
      "text/html": [
       "<img src=\"12.png\"/>"
      ],
      "text/plain": [
       "<IPython.core.display.Image object>"
      ]
     },
     "execution_count": 24,
     "metadata": {},
     "output_type": "execute_result"
    }
   ],
   "source": [
    "Image(url='12.png')"
   ]
  },
  {
   "cell_type": "code",
   "execution_count": null,
   "metadata": {},
   "outputs": [
    {
     "name": "stdout",
     "output_type": "stream",
     "text": [
      "('1', '1', '2')\n",
      "('1', '2', '1')\n",
      "('1', '1', '2')\n",
      "('1', '2', '1')\n",
      "('2', '1', '1')\n",
      "('2', '1', '1')\n"
     ]
    },
    {
     "ename": "KeyboardInterrupt",
     "evalue": "",
     "output_type": "error",
     "traceback": [
      "\u001b[0;31m---------------------------------------------------------------------------\u001b[0m",
      "\u001b[0;31mKeyboardInterrupt\u001b[0m                         Traceback (most recent call last)",
      "Cell \u001b[0;32mIn[30], line 25\u001b[0m\n\u001b[1;32m     21\u001b[0m     edited \u001b[38;5;241m=\u001b[39m edit(word)\n\u001b[1;32m     23\u001b[0m     sm \u001b[38;5;241m=\u001b[39m \u001b[38;5;241m0\u001b[39m\n\u001b[0;32m---> 25\u001b[0m     \u001b[38;5;28;01mfor\u001b[39;00m c \u001b[38;5;129;01min\u001b[39;00m edited: sm \u001b[38;5;241m+\u001b[39m\u001b[38;5;241m=\u001b[39m \u001b[38;5;28mint\u001b[39m(c)\n\u001b[1;32m     27\u001b[0m     mx \u001b[38;5;241m=\u001b[39m \u001b[38;5;28mmax\u001b[39m(mx, sm)\n\u001b[1;32m     29\u001b[0m \u001b[38;5;28mprint\u001b[39m(mx)\n",
      "\u001b[0;31mKeyboardInterrupt\u001b[0m: "
     ]
    }
   ],
   "source": [
    "import itertools as it\n",
    "\n",
    "def edit(st):\n",
    "    while '11' in st:\n",
    "        if '112' in st: \n",
    "            st = st.replace('112', '6')\n",
    "        else:\n",
    "            st = st.replace('11', '3')\n",
    "    \n",
    "    return st\n",
    "\n",
    "base = '1' * 10 + '2' * 3\n",
    "\n",
    "#пример работы permutations\n",
    "for word in it.permutations('112'): \n",
    "    print(word)\n",
    "\n",
    "mx = -1\n",
    "\n",
    "'''for word in it.permutations(base): # работает ДОЛГО!!!!\n",
    "    edited = edit(word)\n",
    "\n",
    "    sm = 0\n",
    "\n",
    "    for c in edited: sm += int(c)\n",
    "\n",
    "    mx = max(mx, sm)\n",
    "\n",
    "print(mx)'''"
   ]
  },
  {
   "cell_type": "markdown",
   "metadata": {},
   "source": [
    "112 112 112 1111 \n",
    "\n",
    "6 6 6 3 3 = 24"
   ]
  },
  {
   "cell_type": "code",
   "execution_count": 31,
   "metadata": {},
   "outputs": [
    {
     "data": {
      "text/html": [
       "<img src=\"13.png\"/>"
      ],
      "text/plain": [
       "<IPython.core.display.Image object>"
      ]
     },
     "execution_count": 31,
     "metadata": {},
     "output_type": "execute_result"
    }
   ],
   "source": [
    "Image(url='13.png')"
   ]
  },
  {
   "cell_type": "code",
   "execution_count": 39,
   "metadata": {},
   "outputs": [
    {
     "name": "stdout",
     "output_type": "stream",
     "text": [
      "11111111.11111111.11100000.0\n",
      "11001110.10011110.01111100.01000011\n",
      "7235\n"
     ]
    }
   ],
   "source": [
    "print(f'{bin(255)[2:]}.{bin(255)[2:]}.{bin(224)[2:]}.{bin(0)[2:]}') # маска\n",
    "print(f'{bin(206)[2:]}.{bin(158)[2:]}.0{bin(124)[2:]}.0{bin(67)[2:]}') #ip\n",
    "\n",
    "print(int('1110001000011', 2))"
   ]
  }
 ],
 "metadata": {
  "kernelspec": {
   "display_name": "Python 3",
   "language": "python",
   "name": "python3"
  },
  "language_info": {
   "codemirror_mode": {
    "name": "ipython",
    "version": 3
   },
   "file_extension": ".py",
   "mimetype": "text/x-python",
   "name": "python",
   "nbconvert_exporter": "python",
   "pygments_lexer": "ipython3",
   "version": "3.12.8"
  }
 },
 "nbformat": 4,
 "nbformat_minor": 2
}
