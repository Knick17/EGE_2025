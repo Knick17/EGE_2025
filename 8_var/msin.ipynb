{
 "cells": [
  {
   "cell_type": "markdown",
   "metadata": {},
   "source": [
    "# 8 вариант\n",
    "\n",
    "https://inf-ege.sdamgia.ru/test?id=17467091"
   ]
  },
  {
   "cell_type": "code",
   "execution_count": 11,
   "metadata": {},
   "outputs": [
    {
     "data": {
      "text/html": [
       "<img src=\"2.png\"/>"
      ],
      "text/plain": [
       "<IPython.core.display.Image object>"
      ]
     },
     "execution_count": 11,
     "metadata": {},
     "output_type": "execute_result"
    }
   ],
   "source": [
    "# import image module \n",
    "from IPython.display import Image \n",
    "  \n",
    "# get the image \n",
    "Image(url=\"2.png\") "
   ]
  },
  {
   "cell_type": "code",
   "execution_count": 12,
   "metadata": {},
   "outputs": [
    {
     "name": "stdout",
     "output_type": "stream",
     "text": [
      "x y z w F\n",
      "0 1 0 0 0\n",
      "0 1 1 0 0\n",
      "1 1 1 0 0\n"
     ]
    }
   ],
   "source": [
    "def f(x, y, z, w):\n",
    "    return ((x and y) <= ((not z) or w)) and (((not w) <= x) or (not y))\n",
    "\n",
    "\n",
    "print('x y z w F')\n",
    "for x in range(2):\n",
    "    for y in range(2):\n",
    "        for z in range(2):\n",
    "            for w in range(2):\n",
    "                if f(x,y,z,w) == 0:\n",
    "                    print(f'{x} {y} {z} {w} {int(f(x,y,z,w))}')"
   ]
  },
  {
   "cell_type": "code",
   "execution_count": 13,
   "metadata": {},
   "outputs": [
    {
     "name": "stdout",
     "output_type": "stream",
     "text": [
      "zwyx\n"
     ]
    }
   ],
   "source": [
    "from itertools import*\n",
    "def f (x ,y ,z ,w):\n",
    "    return ((x and y) <= ((not z) or w)) and (((not w) <= x) or (not y))\n",
    "\n",
    "for a1, a2, a3, a4, a5, a6 in product([0, 1], repeat = 6):\n",
    "    tab= {(1, a1, 1, 1),(0, a2, a3, 0),(1, a4, a5, a6)}\n",
    "    for p in permutations('xyzw'):\n",
    "        if [f(**dict(zip(p, row))) for row in tab] == [0,0,0]: print(*p, sep='')\n"
   ]
  },
  {
   "cell_type": "code",
   "execution_count": 14,
   "metadata": {},
   "outputs": [
    {
     "data": {
      "text/html": [
       "<img src=\"5.png\"/>"
      ],
      "text/plain": [
       "<IPython.core.display.Image object>"
      ]
     },
     "execution_count": 14,
     "metadata": {},
     "output_type": "execute_result"
    }
   ],
   "source": [
    "# import image module \n",
    "from IPython.display import Image \n",
    "  \n",
    "# get the image \n",
    "Image(url=\"5.png\") "
   ]
  },
  {
   "cell_type": "code",
   "execution_count": 17,
   "metadata": {},
   "outputs": [
    {
     "name": "stdout",
     "output_type": "stream",
     "text": [
      "9810\n"
     ]
    }
   ],
   "source": [
    "def f(n):\n",
    "    # n = abcd\n",
    "    a = int(str(n)[0])\n",
    "    b = int(str(n)[1])\n",
    "    c = int(str(n)[2])\n",
    "    d = int(str(n)[3])\n",
    "\n",
    "    sm1 = a + b\n",
    "    sm2 = c + d\n",
    "\n",
    "    return int(str(min(sm1, sm2)) + str(max(sm1, sm2)))\n",
    "\n",
    "\n",
    "\n",
    "for n in range(9999, 1000, -1):\n",
    "    if f(n) == 117: \n",
    "        print(n)\n",
    "        break\n"
   ]
  },
  {
   "cell_type": "markdown",
   "metadata": {},
   "source": [
    "## задача 6"
   ]
  },
  {
   "cell_type": "code",
   "execution_count": 3,
   "metadata": {},
   "outputs": [
    {
     "ename": "ModuleNotFoundError",
     "evalue": "No module named 'turtle'",
     "output_type": "error",
     "traceback": [
      "\u001b[0;31m---------------------------------------------------------------------------\u001b[0m",
      "\u001b[0;31mModuleNotFoundError\u001b[0m                       Traceback (most recent call last)",
      "Cell \u001b[0;32mIn[3], line 1\u001b[0m\n\u001b[0;32m----> 1\u001b[0m \u001b[38;5;28;01mfrom\u001b[39;00m \u001b[38;5;21;01mturtle\u001b[39;00m \u001b[38;5;28;01mimport\u001b[39;00m \u001b[38;5;241m*\u001b[39m\n\u001b[1;32m      2\u001b[0m k \u001b[38;5;241m=\u001b[39m \u001b[38;5;241m15\u001b[39m\n\u001b[1;32m      3\u001b[0m tracer(\u001b[38;5;241m0\u001b[39m)\n",
      "\u001b[0;31mModuleNotFoundError\u001b[0m: No module named 'turtle'"
     ]
    }
   ],
   "source": [
    "from turtle import *\n",
    "k = 15\n",
    "tracer(0)\n",
    "pendown()\n",
    "for i in range(2):\n",
    "    forward(3*k)\n",
    "    left(90)\n",
    "    back(10*k)\n",
    "    left(90)\n",
    "penup()\n",
    "back(10*k)\n",
    "right(90)\n",
    "forward(8*k)\n",
    "left(90)\n",
    "pendown()\n",
    "for i in range(2):\n",
    "    forward(16*k)\n",
    "    right(90)\n",
    "    forward(8*k)\n",
    "    right(90)\n",
    "penup()\n",
    "for x in range(-10,10):\n",
    "    for y in range(-20,10):\n",
    "        setpos(x*k,y*k)\n",
    "        dot(5,(1,0,0))\n",
    "done()"
   ]
  },
  {
   "cell_type": "code",
   "execution_count": 1,
   "metadata": {},
   "outputs": [
    {
     "data": {
      "text/html": [
       "<img src=\"8.png\"/>"
      ],
      "text/plain": [
       "<IPython.core.display.Image object>"
      ]
     },
     "execution_count": 1,
     "metadata": {},
     "output_type": "execute_result"
    }
   ],
   "source": [
    "# import image module \n",
    "from IPython.display import Image \n",
    "  \n",
    "# get the image \n",
    "Image(url=\"8.png\") "
   ]
  },
  {
   "cell_type": "markdown",
   "metadata": {},
   "source": [
    "A _ _ _ _ \\\n",
    "_ A _ _ _ \\\n",
    "_ _ A _ _ \\\n",
    "_ _ _ A _ \\\n",
    "_ _ _ _ A \\\n",
    "\n",
    "на каждую из _ позиций можно поставить любую букву из трех -- (Б В Г) -- 3 варианта\n",
    "\n",
    "то есть для первой схемы слова есть 3 * 3 * 3 * 3 = 3^4\n",
    "\n",
    "таких схем 5 штук, они не пересекаются 5 * 3^4 = 405"
   ]
  },
  {
   "cell_type": "code",
   "execution_count": 9,
   "metadata": {},
   "outputs": [
    {
     "name": "stdout",
     "output_type": "stream",
     "text": [
      "405\n"
     ]
    }
   ],
   "source": [
    "from itertools import product\n",
    "\n",
    "cnt = 0\n",
    "\n",
    "for word in product('АБВГ', repeat=5):\n",
    "    if word.count('А') == 1: cnt += 1\n",
    "\n",
    "print(cnt)"
   ]
  },
  {
   "cell_type": "code",
   "execution_count": 10,
   "metadata": {},
   "outputs": [
    {
     "data": {
      "text/html": [
       "<img src=\"9.png\"/>"
      ],
      "text/plain": [
       "<IPython.core.display.Image object>"
      ]
     },
     "execution_count": 10,
     "metadata": {},
     "output_type": "execute_result"
    }
   ],
   "source": [
    "Image(url=\"9.png\") "
   ]
  },
  {
   "cell_type": "markdown",
   "metadata": {},
   "source": [
    "(a b) c d e f\n",
    "\n",
    "a + b / 2 >= (c + d + e + f) / 4\n",
    "2 (a + b) >= c + d + e + f\n",
    "2 (a + b) + a + b >= a + b + c + d + e + f = sum(arr)\n"
   ]
  },
  {
   "cell_type": "code",
   "execution_count": 15,
   "metadata": {},
   "outputs": [
    {
     "name": "stdout",
     "output_type": "stream",
     "text": [
      "6840\n"
     ]
    }
   ],
   "source": [
    "f = open('9.txt', 'r')\n",
    "\n",
    "tmp = []\n",
    "cnt = 0\n",
    "\n",
    "for st in f.readlines():\n",
    "    tmp = [int(x) for x in st.split()]\n",
    "\n",
    "    flag = True\n",
    "\n",
    "    for elem in tmp:\n",
    "        flag &= (tmp.count(elem) == 1)\n",
    "    \n",
    "    flag &= 3 * (max(tmp) + min(tmp)) > sum(tmp)\n",
    "\n",
    "    cnt += int(flag)\n",
    "\n",
    "print(cnt)"
   ]
  }
 ],
 "metadata": {
  "kernelspec": {
   "display_name": "Python 3",
   "language": "python",
   "name": "python3"
  },
  "language_info": {
   "codemirror_mode": {
    "name": "ipython",
    "version": 3
   },
   "file_extension": ".py",
   "mimetype": "text/x-python",
   "name": "python",
   "nbconvert_exporter": "python",
   "pygments_lexer": "ipython3",
   "version": "3.12.8"
  }
 },
 "nbformat": 4,
 "nbformat_minor": 2
}
