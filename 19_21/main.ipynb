{
 "cells": [
  {
   "cell_type": "code",
   "execution_count": null,
   "metadata": {},
   "outputs": [],
   "source": [
    "def hod(s1, s2):\n",
    "    return [(s1 - 1, s2), (s1, s2 - 1), (s1 // 2, s2), (s1, s2 // 2)]\n",
    "\n",
    "\n",
    "field = []\n",
    "\n",
    "\n",
    "for i in range(11):\n",
    "    tmp = ['--'] * 100\n",
    "    field.append(tmp)\n",
    "\n",
    "# field[i][j] -- СТАТУС КОГДА В ПЕРВОЙ КУЧЕ i камней, а во второй j\n",
    "for i in range(11):\n",
    "    for j in range(100):\n",
    "        if i > 10: field[i][j] = 'x'\n",
    "\n",
    "for i in range(11):\n",
    "    for j in range(100):\n",
    "        if field[i][j] == '--' and (i + j <= 20): field[i][j] = 'w0'\n",
    "\n",
    "\n",
    "for i in range(11):\n",
    "    for j in range(100):\n",
    "        if field[i][j] == '--' and any(s[0] + s[1] <= 20 for s in hod(i, j)): field[i][j] = 'w1'\n",
    "\n",
    "for i in range(11):\n",
    "    for j in range(100):\n",
    "        if field[i][j] == '--' and all(field[s[0]][s[1]] == 'w1' for s in hod(i, j)): field[i][j] = 'l1'\n",
    "\n",
    "for i in range(11):\n",
    "    for j in range(100):\n",
    "        if field[i][j] == '--' and any(field[s[0]][s[1]] == 'l1' for s in hod(i, j)): field[i][j] = 'w2'\n",
    "\n",
    "for i in range(11):\n",
    "    for j in range(100):\n",
    "        if field[i][j] == '--' and all(field[s[0]][s[1]][0] == 'w' for s in hod(i, j)): field[i][j] = 'l2'\n",
    "\n",
    "print(' ', [str(x) + (' ' if x < 10 else '') for x in range(100)])\n",
    "for i in range(11): print(i, field[i])\n"
   ]
  }
 ],
 "metadata": {
  "language_info": {
   "name": "python"
  }
 },
 "nbformat": 4,
 "nbformat_minor": 2
}
