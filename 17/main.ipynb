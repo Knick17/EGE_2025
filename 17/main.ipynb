{
 "cells": [
  {
   "cell_type": "code",
   "execution_count": null,
   "metadata": {},
   "outputs": [
    {
     "ename": "NameError",
     "evalue": "name 'cnt' is not defined",
     "output_type": "error",
     "traceback": [
      "\u001b[0;31m---------------------------------------------------------------------------\u001b[0m",
      "\u001b[0;31mNameError\u001b[0m                                 Traceback (most recent call last)",
      "Cell \u001b[0;32mIn[3], line 20\u001b[0m\n\u001b[1;32m     18\u001b[0m     \u001b[38;5;28;01mif\u001b[39;00m (a \u001b[38;5;241m+\u001b[39m b) \u001b[38;5;241m%\u001b[39m mx \u001b[38;5;241m==\u001b[39m \u001b[38;5;241m0\u001b[39m:\n\u001b[1;32m     19\u001b[0m         \u001b[38;5;28;01mif\u001b[39;00m (ds(a) \u001b[38;5;129;01mand\u001b[39;00m \u001b[38;5;129;01mnot\u001b[39;00m ds(b)) \u001b[38;5;129;01mor\u001b[39;00m (\u001b[38;5;129;01mnot\u001b[39;00m ds(a) \u001b[38;5;129;01mand\u001b[39;00m ds(b)):\n\u001b[0;32m---> 20\u001b[0m             \u001b[43mcnt\u001b[49m \u001b[38;5;241m+\u001b[39m\u001b[38;5;241m=\u001b[39m \u001b[38;5;241m1\u001b[39m\n\u001b[1;32m     21\u001b[0m             max_sm \u001b[38;5;241m=\u001b[39m \u001b[38;5;28mmax\u001b[39m(max_sm, a \u001b[38;5;241m+\u001b[39m b)\n\u001b[1;32m     24\u001b[0m \u001b[38;5;28mprint\u001b[39m(cnt, max_sm)\n",
      "\u001b[0;31mNameError\u001b[0m: name 'cnt' is not defined"
     ]
    }
   ],
   "source": [
    "def ds(a):\n",
    "    return a <= 99 and a >= 10\n",
    "\n",
    "f = open('1_17.txt', 'r')\n",
    "\n",
    "arr = [int(x) for x in f.readlines()]\n",
    "\n",
    "d = [x for x in arr if (x <= 99 and x >= 10)]\n",
    "\n",
    "mx = max(d)\n",
    "\n",
    "max_sm = -1\n",
    "cnt = 0\n",
    "\n",
    "for i in range(len(arr) - 1):\n",
    "    a = arr[i]\n",
    "    b = arr[i + 1]\n",
    "\n",
    "    if (a + b) % mx == 0:\n",
    "        if (ds(a) and not ds(b)) or (not ds(a) and ds(b)):\n",
    "            cnt += 1\n",
    "            max_sm = max(max_sm, a + b)\n",
    "\n",
    "\n",
    "print(cnt, max_sm)\n"
   ]
  }
 ],
 "metadata": {
  "kernelspec": {
   "display_name": "Python 3",
   "language": "python",
   "name": "python3"
  },
  "language_info": {
   "codemirror_mode": {
    "name": "ipython",
    "version": 3
   },
   "file_extension": ".py",
   "mimetype": "text/x-python",
   "name": "python",
   "nbconvert_exporter": "python",
   "pygments_lexer": "ipython3",
   "version": "3.12.9"
  }
 },
 "nbformat": 4,
 "nbformat_minor": 2
}
