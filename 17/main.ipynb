{
 "cells": [
  {
   "cell_type": "code",
   "execution_count": 4,
   "metadata": {},
   "outputs": [
    {
     "name": "stdout",
     "output_type": "stream",
     "text": [
      "16 9702\n"
     ]
    }
   ],
   "source": [
    "def ds(a):\n",
    "    return a <= 99 and a >= 10\n",
    "\n",
    "f = open('1_17.txt', 'r')\n",
    "\n",
    "arr = [int(x) for x in f.readlines()]\n",
    "\n",
    "d = [x for x in arr if (x <= 99 and x >= 10)]\n",
    "\n",
    "mx = max(d)\n",
    "\n",
    "max_sm = -1\n",
    "cnt = 0\n",
    "\n",
    "for i in range(len(arr) - 1):\n",
    "    a = arr[i]\n",
    "    b = arr[i + 1]\n",
    "\n",
    "    if (a + b) % mx == 0:\n",
    "        if (ds(a) and not ds(b)) or (not ds(a) and ds(b)):\n",
    "            cnt += 1\n",
    "            max_sm = max(max_sm, a + b)\n",
    "\n",
    "\n",
    "print(cnt, max_sm)\n"
   ]
  }
 ],
 "metadata": {
  "kernelspec": {
   "display_name": "Python 3",
   "language": "python",
   "name": "python3"
  },
  "language_info": {
   "codemirror_mode": {
    "name": "ipython",
    "version": 3
   },
   "file_extension": ".py",
   "mimetype": "text/x-python",
   "name": "python",
   "nbconvert_exporter": "python",
   "pygments_lexer": "ipython3",
   "version": "3.12.6"
  }
 },
 "nbformat": 4,
 "nbformat_minor": 2
}
