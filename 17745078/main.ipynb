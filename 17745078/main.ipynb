{
 "cells": [
  {
   "cell_type": "markdown",
   "metadata": {},
   "source": [
    "https://inf-ege.sdamgia.ru/test?id=17745078"
   ]
  },
  {
   "cell_type": "code",
   "execution_count": 2,
   "metadata": {},
   "outputs": [
    {
     "data": {
      "text/html": [
       "<img src=\"15.png\"/>"
      ],
      "text/plain": [
       "<IPython.core.display.Image object>"
      ]
     },
     "execution_count": 2,
     "metadata": {},
     "output_type": "execute_result"
    }
   ],
   "source": [
    "from IPython.display import Image \n",
    "Image(url=\"15.png\")"
   ]
  },
  {
   "cell_type": "code",
   "execution_count": 3,
   "metadata": {},
   "outputs": [
    {
     "data": {
      "text/html": [
       "<img src=\"16.png\"/>"
      ],
      "text/plain": [
       "<IPython.core.display.Image object>"
      ]
     },
     "execution_count": 3,
     "metadata": {},
     "output_type": "execute_result"
    }
   ],
   "source": [
    "Image(url=\"16.png\")"
   ]
  },
  {
   "cell_type": "markdown",
   "metadata": {},
   "source": [
    "F(n) = 7560 = 2^3 * 3^3 * 5 * 7 = (n % 15) * F(n // 15) = \n",
    "=  (n % 15) * F(n // 15) = (n % 15) * (n // 15 % 15) * F(n // 15 // 15)\n",
    "(n % 15) * (n // 15 % 15) * ... * (n // 15 // 15 // ... % 15) * F(n // 15 ... // 15) = \n",
    "= (n % 15) * (n // 15 % 15) * ... * (n // 15 // 15 // ... % 15) * [n // 15 ... // 15] =  \n",
    "= 2^3 * 3^3 * 5 * 7\n",
    "\n",
    "не должно быть 15^2 в разложении\n",
    "\n",
    "\n",
    "n = (7560 + d)* 15 >= 1 * F(7560 + d)\n",
    "\n",
    "F(n % 15) = n % 15, тк (n % 15) < 15\n",
    "\n",
    "\n",
    "F(n + 15) =  (n % 15) * n"
   ]
  },
  {
   "cell_type": "code",
   "execution_count": 4,
   "metadata": {},
   "outputs": [
    {
     "name": "stdout",
     "output_type": "stream",
     "text": [
      "138\n"
     ]
    }
   ],
   "source": [
    "def f(n):\n",
    "    ans = 1\n",
    "    while n >= 15: \n",
    "        ans *= (n % 15)\n",
    "        n //= 15\n",
    "    return ans * n\n",
    "\n",
    "cnt = 0\n",
    "for n in range(100000, 10000, -1):\n",
    "    #print(f(n), f(n) == 7560)\n",
    "    cnt += f(n) == 7560\n",
    "print(cnt)"
   ]
  },
  {
   "cell_type": "code",
   "execution_count": 5,
   "metadata": {},
   "outputs": [
    {
     "data": {
      "text/html": [
       "<img src=\"17.png\"/>"
      ],
      "text/plain": [
       "<IPython.core.display.Image object>"
      ]
     },
     "execution_count": 5,
     "metadata": {},
     "output_type": "execute_result"
    }
   ],
   "source": [
    "Image(url=\"17.png\")"
   ]
  },
  {
   "cell_type": "code",
   "execution_count": 6,
   "metadata": {},
   "outputs": [
    {
     "name": "stdout",
     "output_type": "stream",
     "text": [
      "29278\n"
     ]
    }
   ],
   "source": [
    "arr = [int(x) for x in open('17.txt').readlines()]\n",
    "\n",
    "cnt = 0\n",
    "\n",
    "for i_a in range(len(arr) - 1):\n",
    "    for i_b in range(i_a + 1, len(arr)):\n",
    "        cnt += ((arr[i_a] % 40 == 0) or (arr[i_b] % 40 == 0)) and ((arr[i_a] + arr[i_b]) % 60 == 0)\n",
    "\n",
    "print(cnt)\n"
   ]
  },
  {
   "cell_type": "code",
   "execution_count": null,
   "metadata": {},
   "outputs": [],
   "source": []
  }
 ],
 "metadata": {
  "kernelspec": {
   "display_name": "Python 3",
   "language": "python",
   "name": "python3"
  },
  "language_info": {
   "codemirror_mode": {
    "name": "ipython",
    "version": 3
   },
   "file_extension": ".py",
   "mimetype": "text/x-python",
   "name": "python",
   "nbconvert_exporter": "python",
   "pygments_lexer": "ipython3",
   "version": "3.12.6"
  }
 },
 "nbformat": 4,
 "nbformat_minor": 2
}
